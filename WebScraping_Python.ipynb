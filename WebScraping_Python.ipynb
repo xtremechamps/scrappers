{
  "nbformat": 4,
  "nbformat_minor": 0,
  "metadata": {
    "colab": {
      "name": "WebScraping.ipynb",
      "provenance": []
    },
    "kernelspec": {
      "name": "python3",
      "display_name": "Python 3"
    }
  },
  "cells": [
    {
      "cell_type": "code",
      "metadata": {
        "id": "2buHOzXA24dK",
        "colab_type": "code",
        "colab": {}
      },
      "source": [
        "import requests \n",
        "from bs4 import BeautifulSoup "
      ],
      "execution_count": 0,
      "outputs": []
    },
    {
      "cell_type": "code",
      "metadata": {
        "id": "iLf4WVs-3MhR",
        "colab_type": "code",
        "colab": {}
      },
      "source": [
        "r = requests.get(\"http://example.webscraping.com/\")"
      ],
      "execution_count": 0,
      "outputs": []
    },
    {
      "cell_type": "code",
      "metadata": {
        "id": "xCYFY1C83odf",
        "colab_type": "code",
        "outputId": "dc7f556c-604c-43ff-df80-8c8354f83fe5",
        "colab": {
          "base_uri": "https://localhost:8080/",
          "height": 1000
        }
      },
      "source": [
        "soup = BeautifulSoup(r.content,'html5lib')\n",
        "print(soup.prettify())"
      ],
      "execution_count": 3,
      "outputs": [
        {
          "output_type": "stream",
          "text": [
            "<!--[if HTML5]><![endif]-->\n",
            "<!DOCTYPE html>\n",
            "<!-- paulirish.com/2008/conditional-stylesheets-vs-css-hacks-answer-neither/ -->\n",
            "<!--[if lt IE 7]><html class=\"ie ie6 ie-lte9 ie-lte8 ie-lte7 no-js\" lang=\"en-us\"> <![endif]-->\n",
            "<!--[if IE 7]><html class=\"ie ie7 ie-lte9 ie-lte8 ie-lte7 no-js\" lang=\"en-us\"> <![endif]-->\n",
            "<!--[if IE 8]><html class=\"ie ie8 ie-lte9 ie-lte8 no-js\" lang=\"en-us\"> <![endif]-->\n",
            "<!--[if IE 9]><html class=\"ie9 ie-lte9 no-js\" lang=\"en-us\"> <![endif]-->\n",
            "<!--[if (gt IE 9)|!(IE)]><!-->\n",
            "<html class=\"no-js\" lang=\"en-us\">\n",
            " <!--<![endif]-->\n",
            " <head>\n",
            "  <title>\n",
            "   Example web scraping website\n",
            "  </title>\n",
            "  <!--[if !HTML5]>\n",
            "      <meta http-equiv=\"X-UA-Compatible\" content=\"IE=edge,chrome=1\">\n",
            "  <![endif]-->\n",
            "  <!-- www.phpied.com/conditional-comments-block-downloads/ -->\n",
            "  <!-- Always force latest IE rendering engine\n",
            "       (even in intranet) & Chrome Frame\n",
            "       Remove this if you use the .htaccess -->\n",
            "  <meta charset=\"utf-8\"/>\n",
            "  <!-- http://dev.w3.org/html5/markup/meta.name.html -->\n",
            "  <meta content=\"places\" name=\"application-name\"/>\n",
            "  <!--  Mobile Viewport Fix\n",
            "        j.mp/mobileviewport & davidbcalhoun.com/2010/viewport-metatag\n",
            "        device-width: Occupy full width of the screen in its current orientation\n",
            "        initial-scale = 1.0 retains dimensions instead of zooming out if page height > device height\n",
            "        user-scalable = yes allows the user to zoom in -->\n",
            "  <meta content=\"width=device-width, initial-scale=1.0\" name=\"viewport\"/>\n",
            "  <link href=\"/places/static/images/favicon.ico\" rel=\"shortcut icon\" type=\"image/x-icon\"/>\n",
            "  <link href=\"/places/static/images/favicon.png\" rel=\"apple-touch-icon\"/>\n",
            "  <!-- All JavaScript at the bottom, except for Modernizr which enables\n",
            "       HTML5 elements & feature detects -->\n",
            "  <script src=\"/places/static/js/modernizr.custom.js\">\n",
            "  </script>\n",
            "  <!-- include stylesheets -->\n",
            "  <script type=\"text/javascript\">\n",
            "   <!--\n",
            "    // These variables are used by the web2py_ajax_init function in web2py_ajax.js (which is loaded below).\n",
            "    var w2p_ajax_confirm_message = \"Are you sure you want to delete this object?\";\n",
            "    var w2p_ajax_disable_with_message = \"Working...\";\n",
            "    var w2p_ajax_date_format = \"%Y-%m-%d\";\n",
            "    var w2p_ajax_datetime_format = \"%Y-%m-%d %H:%M:%S\";\n",
            "    var ajax_error_500 = 'An error occured, please <a href=\"/places/default/index\">reload</a> the page'\n",
            "    //-->\n",
            "  </script>\n",
            "  <meta content=\"web2py, python, web scraping\" name=\"keywords\"/>\n",
            "  <meta content=\"Web2py Web Framework\" name=\"generator\"/>\n",
            "  <meta content=\"Richard Penman\" name=\"author\"/>\n",
            "  <script src=\"/places/static/js/jquery.js\" type=\"text/javascript\">\n",
            "  </script>\n",
            "  <link href=\"/places/static/css/calendar.css\" rel=\"stylesheet\" type=\"text/css\"/>\n",
            "  <script src=\"/places/static/js/calendar.js\" type=\"text/javascript\">\n",
            "  </script>\n",
            "  <script src=\"/places/static/js/web2py.js\" type=\"text/javascript\">\n",
            "  </script>\n",
            "  <link href=\"/places/static/css/web2py.css\" rel=\"stylesheet\" type=\"text/css\"/>\n",
            "  <link href=\"/places/static/css/bootstrap.min.css\" rel=\"stylesheet\" type=\"text/css\"/>\n",
            "  <link href=\"/places/static/css/bootstrap-responsive.min.css\" rel=\"stylesheet\" type=\"text/css\"/>\n",
            "  <link href=\"/places/static/css/style.css\" rel=\"stylesheet\" type=\"text/css\"/>\n",
            "  <link href=\"/places/static/css/web2py_bootstrap.css\" rel=\"stylesheet\" type=\"text/css\"/>\n",
            "  <!-- uncomment here to load jquery-ui\n",
            "       <link rel=\"stylesheet\" href=\"http://ajax.googleapis.com/ajax/libs/jqueryui/1.10.3/themes/ui-lightness/jquery-ui.css\" type=\"text/css\" media=\"all\" />\n",
            "       <script src=\"http://ajax.googleapis.com/ajax/libs/jqueryui/1.10.3/jquery-ui.min.js\" type=\"text/javascript\"></script>\n",
            "       uncomment to load jquery-ui //-->\n",
            "  <noscript>\n",
            "   <link href=\"/places/static/css/web2py_bootstrap_nojs.css\" rel=\"stylesheet\" type=\"text/css\"/>\n",
            "  </noscript>\n",
            " </head>\n",
            " <body>\n",
            "  <!-- Navbar ================================================== -->\n",
            "  <div class=\"navbar navbar-inverse\">\n",
            "   <div class=\"flash\">\n",
            "   </div>\n",
            "   <div class=\"navbar-inner\">\n",
            "    <div class=\"container\">\n",
            "     <!-- the next tag is necessary for bootstrap menus, do not remove -->\n",
            "     <button class=\"btn btn-navbar\" data-target=\".nav-collapse\" data-toggle=\"collapse\" style=\"display:none;\" type=\"button\">\n",
            "      <span class=\"icon-bar\">\n",
            "      </span>\n",
            "      <span class=\"icon-bar\">\n",
            "      </span>\n",
            "      <span class=\"icon-bar\">\n",
            "      </span>\n",
            "     </button>\n",
            "     <ul class=\"nav pull-right\" id=\"navbar\">\n",
            "      <li class=\"dropdown\">\n",
            "       <a class=\"dropdown-toggle\" data-toggle=\"dropdown\" href=\"#\" rel=\"nofollow\">\n",
            "        Log In\n",
            "       </a>\n",
            "       <ul class=\"dropdown-menu\">\n",
            "        <li>\n",
            "         <a href=\"/places/default/user/register?_next=/places/default/index\" rel=\"nofollow\">\n",
            "          <i class=\"icon icon-user glyphicon glyphicon-user\">\n",
            "          </i>\n",
            "          Sign Up\n",
            "         </a>\n",
            "        </li>\n",
            "        <li class=\"divider\">\n",
            "        </li>\n",
            "        <li>\n",
            "         <a href=\"/places/default/user/login?_next=/places/default/index\" rel=\"nofollow\">\n",
            "          <i class=\"icon icon-off glyphicon glyphicon-off\">\n",
            "          </i>\n",
            "          Log In\n",
            "         </a>\n",
            "        </li>\n",
            "       </ul>\n",
            "      </li>\n",
            "     </ul>\n",
            "     <div class=\"nav\">\n",
            "      <ul class=\"nav\">\n",
            "       <li class=\"web2py-menu-first\">\n",
            "        <a href=\"/places/default/index\">\n",
            "         Home\n",
            "        </a>\n",
            "       </li>\n",
            "       <li class=\"web2py-menu-last\">\n",
            "        <a href=\"/places/default/search\">\n",
            "         Search\n",
            "        </a>\n",
            "       </li>\n",
            "      </ul>\n",
            "     </div>\n",
            "     <!--/.nav-collapse -->\n",
            "    </div>\n",
            "   </div>\n",
            "  </div>\n",
            "  <!--/top navbar -->\n",
            "  <div class=\"container\">\n",
            "   <!-- Masthead ================================================== -->\n",
            "   <header class=\"mastheader row\" id=\"header\">\n",
            "    <div class=\"span12\">\n",
            "     <div class=\"page-header\">\n",
            "      <h1>\n",
            "       Example web scraping website\n",
            "       <small>\n",
            "       </small>\n",
            "      </h1>\n",
            "     </div>\n",
            "    </div>\n",
            "   </header>\n",
            "   <section class=\"main row\" id=\"main\">\n",
            "    <div class=\"span12\">\n",
            "     <div id=\"results\">\n",
            "      <table>\n",
            "       <tbody>\n",
            "        <tr>\n",
            "         <td>\n",
            "          <div>\n",
            "           <a href=\"/places/default/view/Afghanistan-1\">\n",
            "            <img src=\"/places/static/images/flags/af.png\"/>\n",
            "            Afghanistan\n",
            "           </a>\n",
            "          </div>\n",
            "         </td>\n",
            "         <td>\n",
            "          <div>\n",
            "           <a href=\"/places/default/view/Aland-Islands-2\">\n",
            "            <img src=\"/places/static/images/flags/ax.png\"/>\n",
            "            Aland Islands\n",
            "           </a>\n",
            "          </div>\n",
            "         </td>\n",
            "        </tr>\n",
            "        <tr>\n",
            "         <td>\n",
            "          <div>\n",
            "           <a href=\"/places/default/view/Albania-3\">\n",
            "            <img src=\"/places/static/images/flags/al.png\"/>\n",
            "            Albania\n",
            "           </a>\n",
            "          </div>\n",
            "         </td>\n",
            "         <td>\n",
            "          <div>\n",
            "           <a href=\"/places/default/view/Algeria-4\">\n",
            "            <img src=\"/places/static/images/flags/dz.png\"/>\n",
            "            Algeria\n",
            "           </a>\n",
            "          </div>\n",
            "         </td>\n",
            "        </tr>\n",
            "        <tr>\n",
            "         <td>\n",
            "          <div>\n",
            "           <a href=\"/places/default/view/American-Samoa-5\">\n",
            "            <img src=\"/places/static/images/flags/as.png\"/>\n",
            "            American Samoa\n",
            "           </a>\n",
            "          </div>\n",
            "         </td>\n",
            "         <td>\n",
            "          <div>\n",
            "           <a href=\"/places/default/view/Andorra-6\">\n",
            "            <img src=\"/places/static/images/flags/ad.png\"/>\n",
            "            Andorra\n",
            "           </a>\n",
            "          </div>\n",
            "         </td>\n",
            "        </tr>\n",
            "        <tr>\n",
            "         <td>\n",
            "          <div>\n",
            "           <a href=\"/places/default/view/Angola-7\">\n",
            "            <img src=\"/places/static/images/flags/ao.png\"/>\n",
            "            Angola\n",
            "           </a>\n",
            "          </div>\n",
            "         </td>\n",
            "         <td>\n",
            "          <div>\n",
            "           <a href=\"/places/default/view/Anguilla-8\">\n",
            "            <img src=\"/places/static/images/flags/ai.png\"/>\n",
            "            Anguilla\n",
            "           </a>\n",
            "          </div>\n",
            "         </td>\n",
            "        </tr>\n",
            "        <tr>\n",
            "         <td>\n",
            "          <div>\n",
            "           <a href=\"/places/default/view/Antarctica-9\">\n",
            "            <img src=\"/places/static/images/flags/aq.png\"/>\n",
            "            Antarctica\n",
            "           </a>\n",
            "          </div>\n",
            "         </td>\n",
            "         <td>\n",
            "          <div>\n",
            "           <a href=\"/places/default/view/Antigua-and-Barbuda-10\">\n",
            "            <img src=\"/places/static/images/flags/ag.png\"/>\n",
            "            Antigua and Barbuda\n",
            "           </a>\n",
            "          </div>\n",
            "         </td>\n",
            "        </tr>\n",
            "       </tbody>\n",
            "      </table>\n",
            "     </div>\n",
            "     <div id=\"pagination\">\n",
            "      &lt; Previous\n",
            "\n",
            "|\n",
            "      <a href=\"/places/default/index/1\">\n",
            "       Next &gt;\n",
            "      </a>\n",
            "     </div>\n",
            "    </div>\n",
            "   </section>\n",
            "   <!--/main-->\n",
            "   <!-- Footer ================================================== -->\n",
            "   <div class=\"row\">\n",
            "    <footer class=\"footer span12\" id=\"footer\">\n",
            "    </footer>\n",
            "   </div>\n",
            "  </div>\n",
            "  <!-- /container -->\n",
            "  <!-- The javascript =============================================\n",
            "       (Placed at the end of the document so the pages load faster) -->\n",
            "  <script src=\"/places/static/js/bootstrap.min.js\">\n",
            "  </script>\n",
            "  <script src=\"/places/static/js/web2py_bootstrap.js\">\n",
            "  </script>\n",
            "  <!--[if lt IE 7 ]>\n",
            "      <script src=\"/places/static/js/dd_belatedpng.js\"></script>\n",
            "      <script> DD_belatedPNG.fix('img, .png_bg'); //fix any <img> or .png_bg background-images </script>\n",
            "      <![endif]-->\n",
            " </body>\n",
            "</html>\n"
          ],
          "name": "stdout"
        }
      ]
    },
    {
      "cell_type": "code",
      "metadata": {
        "id": "AuXriuxZ30gl",
        "colab_type": "code",
        "outputId": "77b9ad02-b227-460f-84a2-1217eda831ac",
        "colab": {
          "base_uri": "https://localhost:8080/",
          "height": 89
        }
      },
      "source": [
        "div = soup.find('div', attrs = {'id':'results'})\n",
        "print(div)"
      ],
      "execution_count": 4,
      "outputs": [
        {
          "output_type": "stream",
          "text": [
            "<div id=\"results\">\n",
            "<table><tbody><tr><td><div><a href=\"/places/default/view/Afghanistan-1\"><img src=\"/places/static/images/flags/af.png\"/> Afghanistan</a></div></td><td><div><a href=\"/places/default/view/Aland-Islands-2\"><img src=\"/places/static/images/flags/ax.png\"/> Aland Islands</a></div></td></tr><tr><td><div><a href=\"/places/default/view/Albania-3\"><img src=\"/places/static/images/flags/al.png\"/> Albania</a></div></td><td><div><a href=\"/places/default/view/Algeria-4\"><img src=\"/places/static/images/flags/dz.png\"/> Algeria</a></div></td></tr><tr><td><div><a href=\"/places/default/view/American-Samoa-5\"><img src=\"/places/static/images/flags/as.png\"/> American Samoa</a></div></td><td><div><a href=\"/places/default/view/Andorra-6\"><img src=\"/places/static/images/flags/ad.png\"/> Andorra</a></div></td></tr><tr><td><div><a href=\"/places/default/view/Angola-7\"><img src=\"/places/static/images/flags/ao.png\"/> Angola</a></div></td><td><div><a href=\"/places/default/view/Anguilla-8\"><img src=\"/places/static/images/flags/ai.png\"/> Anguilla</a></div></td></tr><tr><td><div><a href=\"/places/default/view/Antarctica-9\"><img src=\"/places/static/images/flags/aq.png\"/> Antarctica</a></div></td><td><div><a href=\"/places/default/view/Antigua-and-Barbuda-10\"><img src=\"/places/static/images/flags/ag.png\"/> Antigua and Barbuda</a></div></td></tr></tbody></table>\n",
            "</div>\n"
          ],
          "name": "stdout"
        }
      ]
    },
    {
      "cell_type": "code",
      "metadata": {
        "id": "nikgiFIc4R67",
        "colab_type": "code",
        "outputId": "ab87a243-6306-4d67-f785-190ec075654f",
        "colab": {
          "base_uri": "https://localhost:8080/",
          "height": 55
        }
      },
      "source": [
        "#parse html tree to extract information\n",
        "citys =[]\n",
        "for row in div.find_all('td'): \n",
        "    city = {} \n",
        "    city['name'] = row.div.text \n",
        "    city['url'] = row.div.a['href'] \n",
        "    city['img'] = row.div.a.img['src'] \n",
        "    citys.append(city) \n",
        "print(citys)"
      ],
      "execution_count": 5,
      "outputs": [
        {
          "output_type": "stream",
          "text": [
            "[{'name': ' Afghanistan', 'url': '/places/default/view/Afghanistan-1', 'img': '/places/static/images/flags/af.png'}, {'name': ' Aland Islands', 'url': '/places/default/view/Aland-Islands-2', 'img': '/places/static/images/flags/ax.png'}, {'name': ' Albania', 'url': '/places/default/view/Albania-3', 'img': '/places/static/images/flags/al.png'}, {'name': ' Algeria', 'url': '/places/default/view/Algeria-4', 'img': '/places/static/images/flags/dz.png'}, {'name': ' American Samoa', 'url': '/places/default/view/American-Samoa-5', 'img': '/places/static/images/flags/as.png'}, {'name': ' Andorra', 'url': '/places/default/view/Andorra-6', 'img': '/places/static/images/flags/ad.png'}, {'name': ' Angola', 'url': '/places/default/view/Angola-7', 'img': '/places/static/images/flags/ao.png'}, {'name': ' Anguilla', 'url': '/places/default/view/Anguilla-8', 'img': '/places/static/images/flags/ai.png'}, {'name': ' Antarctica', 'url': '/places/default/view/Antarctica-9', 'img': '/places/static/images/flags/aq.png'}, {'name': ' Antigua and Barbuda', 'url': '/places/default/view/Antigua-and-Barbuda-10', 'img': '/places/static/images/flags/ag.png'}]\n"
          ],
          "name": "stdout"
        }
      ]
    },
    {
      "cell_type": "code",
      "metadata": {
        "id": "q1bXkd664z7g",
        "colab_type": "code",
        "colab": {}
      },
      "source": [
        "#dumping data into excel\n",
        "import xlwt \n",
        "from xlwt import Workbook "
      ],
      "execution_count": 0,
      "outputs": []
    },
    {
      "cell_type": "code",
      "metadata": {
        "id": "If3SyuxY5pQt",
        "colab_type": "code",
        "colab": {}
      },
      "source": [
        "wb = Workbook() \n",
        "sheet1 = wb.add_sheet('Sheet 1')"
      ],
      "execution_count": 0,
      "outputs": []
    },
    {
      "cell_type": "code",
      "metadata": {
        "id": "L6Ngrxh65xQD",
        "colab_type": "code",
        "colab": {}
      },
      "source": [
        "sheet1.write(0,0,'Name')\n",
        "sheet1.write(0,1,'URL')\n",
        "sheet1.write(0,2,'Img')"
      ],
      "execution_count": 0,
      "outputs": []
    },
    {
      "cell_type": "code",
      "metadata": {
        "id": "LPYKNhMG5pWy",
        "colab_type": "code",
        "colab": {}
      },
      "source": [
        "row = 1\n",
        "for city in citys:\n",
        "  sheet1.write(row,0,city['name'])\n",
        "  sheet1.write(row,1,city['url'])\n",
        "  sheet1.write(row,2,city['img'])\n",
        "  row = row+1"
      ],
      "execution_count": 0,
      "outputs": []
    },
    {
      "cell_type": "code",
      "metadata": {
        "id": "yLeHwHdm5jfL",
        "colab_type": "code",
        "colab": {}
      },
      "source": [
        "wb.save(\"scrapped.xls\")"
      ],
      "execution_count": 0,
      "outputs": []
    },
    {
      "cell_type": "code",
      "metadata": {
        "id": "vdfCs8v96gm1",
        "colab_type": "code",
        "colab": {}
      },
      "source": [
        ""
      ],
      "execution_count": 0,
      "outputs": []
    }
  ]
}